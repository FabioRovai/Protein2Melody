{
 "cells": [
  {
   "cell_type": "code",
   "execution_count": 11,
   "metadata": {
    "id": "OIBl5ggFxmtd"
   },
   "outputs": [],
   "source": [
    "from synthesizer import Player, Synthesizer, Waveform\n",
    "import pyaudio\n",
    "import pandas as pd\n",
    "import numpy as np\n",
    "\n",
    "#https://github.com/yuma-m/synthesizer\n",
    "\n",
    "player = Player()\n",
    "player.open_stream()\n",
    "\n",
    "# Dictionary to be used for converting amino acid abbreviations\n",
    "aa_3to1 = {'CYS': 'C', 'ASP': 'D', 'SER': 'S',\n",
    "'GLN': 'Q', 'LYS':'K','ILE': 'I', 'PRO': 'P',\n",
    " 'THR': 'T', 'PHE': 'F', 'ASN': 'N', 'GLY': 'G',\n",
    " 'HIS': 'H', 'LEU': 'L', 'ARG': 'R', 'TRP': 'W',\n",
    " 'ALA': 'A', 'VAL':'V', 'GLU': 'E', 'TYR': 'Y', 'MET': 'M'}"
   ]
  },
  {
   "cell_type": "code",
   "execution_count": 12,
   "metadata": {
    "id": "uXnaJahpxmtj",
    "outputId": "decdd661-6274-4cec-a8a0-f8c40f381fef"
   },
   "outputs": [],
   "source": [
    "from scipy.constants import speed_of_light as speedlight\n",
    "# Collect amino acid vibrational frequencies as wavenumbers\n",
    "# nu refers to the greek letter Nu, used for wavenumbers\n",
    "import pandas as pd\n",
    "#https://github.com/frodoCombs/Amino_Acid_Frequencies\n",
    "nu_df = pd.read_csv('/Users/fabiorovai/Downloads/aa_freq.csv', sep=',',header=0)\n",
    "\n",
    "# replace NA's with 0's\n",
    "nu_df.fillna(0,inplace=True)"
   ]
  },
  {
   "cell_type": "code",
   "execution_count": 13,
   "metadata": {
    "id": "6WboADpfxmtj"
   },
   "outputs": [],
   "source": [
    "from scipy.constants import speed_of_light as speedlight\n",
    "#convert to np array\n",
    "nu = nu_df.values\n",
    "for ro in range(nu.shape[0]):\n",
    "    for co in range(nu.shape[1]):\n",
    "        if co == 0:\n",
    "        #Convert amino acid code from 3 letter to 1 letter\n",
    "            aa = nu[ro][co]\n",
    "            aa = aa[0:3].upper()\n",
    "            nu[ro][co]= aa_3to1[aa]\n",
    "        else:\n",
    "        # Convert from wavenumber to frequency\n",
    "        # wavelength = 1/wavenumber\n",
    "        # frequency = speed of light / wavelength\n",
    "            if nu[ro][co] > 0:\n",
    "                freq = speedlight / (1/nu[ro][co])"
   ]
  },
  {
   "cell_type": "code",
   "execution_count": 14,
   "metadata": {
    "id": "f2wo2wwZyFfj"
   },
   "outputs": [],
   "source": [
    "aa_list = nu[:,0]      # list of amino acids\n",
    "nu = nu[:,1:]          # remove first column                \n",
    "max_freq = nu.max()    # max and min \n",
    "min_freq = nu.min()    # need to exclude first column\n",
    "human_range = 20000 - 20\n",
    "for ro in range(nu.shape[0]):\n",
    "    for co in range(nu.shape[1]):\n",
    "        if nu[ro][co] > 0:\n",
    "            # First scale to 0 to 1\n",
    "            nu[ro][co] = (nu[ro][co] - min_freq)/ max_freq - min_freq\n",
    "            # Scale to human hearing range 20 - 20000 Hz\n",
    "            nu[ro][co] = (nu[ro][co] * human_range) + 20\n",
    "\n",
    "def aa_note(aa,length):\n",
    "    row = np.where(aa_list == aa)[0][0]\n",
    "    wave = np.zeros(int(44100 * float(length)))\n",
    "    harm = 0\n",
    " \n",
    "    for freq in nu[row]:\n",
    "        if freq == 0:\n",
    "            break\n",
    "        else:\n",
    "            volume = np.exp(-harm)\n",
    "            phases = np.cumsum(2.0 * np.pi * freq / 44100 * np.ones(int(44100 * float(length))))\n",
    "            wave += np.sin(phases) * volume\n",
    "            harm += 1\n",
    "    # scale wave to values between 1 and -1\n",
    "    wave = 2.*(wave - wave.min())/np.ptp(wave)-1\n",
    "    return wave\n",
    "\n",
    "\n"
   ]
  },
  {
   "cell_type": "code",
   "execution_count": 15,
   "metadata": {},
   "outputs": [],
   "source": [
    "player = Player()\n",
    "player.open_stream()\n",
    "\n",
    "\n",
    "# a sample protein sequence\n",
    "protein_sequence = 'GIWGVDSAQVVT'\n",
    "unit_length = 0.5\n",
    "melodic_sequence = []\n",
    "for residue in protein_sequence:\n",
    "    sound_wave = aa_note(residue,unit_length)\n",
    "    melodic_sequence = melodic_sequence + sound_wave.tolist()\n",
    "melody = np.asarray(melodic_sequence)\n",
    "melody = 2*(melody - melody.min())/np.ptp(melody)-1"
   ]
  },
  {
   "cell_type": "code",
   "execution_count": 16,
   "metadata": {},
   "outputs": [],
   "source": [
    "player.play_wave(melody)"
   ]
  },
  {
   "cell_type": "code",
   "execution_count": null,
   "metadata": {},
   "outputs": [],
   "source": []
  }
 ],
 "metadata": {
  "colab": {
   "collapsed_sections": [],
   "name": "Copy of audio1.ipynb",
   "provenance": []
  },
  "kernelspec": {
   "display_name": "Python 3",
   "language": "python",
   "name": "python3"
  },
  "language_info": {
   "codemirror_mode": {
    "name": "ipython",
    "version": 3
   },
   "file_extension": ".py",
   "mimetype": "text/x-python",
   "name": "python",
   "nbconvert_exporter": "python",
   "pygments_lexer": "ipython3",
   "version": "3.8.3"
  }
 },
 "nbformat": 4,
 "nbformat_minor": 4
}
